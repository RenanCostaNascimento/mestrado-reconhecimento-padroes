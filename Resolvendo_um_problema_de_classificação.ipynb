{
  "nbformat": 4,
  "nbformat_minor": 0,
  "metadata": {
    "colab": {
      "name": "Resolvendo um problema de classificação.ipynb",
      "provenance": [],
      "authorship_tag": "ABX9TyMzxvq5I74YcCZ6AIwCy9Lt",
      "include_colab_link": true
    },
    "kernelspec": {
      "name": "python3",
      "display_name": "Python 3"
    }
  },
  "cells": [
    {
      "cell_type": "markdown",
      "metadata": {
        "id": "view-in-github",
        "colab_type": "text"
      },
      "source": [
        "<a href=\"https://colab.research.google.com/github/RenanCostaNascimento/mestrado-reconhecimento-padroes/blob/main/Resolvendo_um_problema_de_classifica%C3%A7%C3%A3o.ipynb\" target=\"_parent\"><img src=\"https://colab.research.google.com/assets/colab-badge.svg\" alt=\"Open In Colab\"/></a>"
      ]
    },
    {
      "cell_type": "markdown",
      "metadata": {
        "id": "6mqw1_y01BNZ"
      },
      "source": [
        "Vamos começar importando a base de dados [Heart Disease UCI do Kaggle](https://www.kaggle.com/ronitf/heart-disease-uci). É um dataset que indica se a pessoa tem alguma condição cardíaca com base nas suas informações médicas.\n"
      ]
    },
    {
      "cell_type": "code",
      "metadata": {
        "id": "ZA9LrvqOyoUG",
        "outputId": "bd43a2a7-1d47-498c-95ae-53dadf6dfdc6",
        "colab": {
          "base_uri": "https://localhost:8080/",
          "height": 142
        }
      },
      "source": [
        "import pandas as pd\n",
        "\n",
        "dataset = pd.read_csv('/content/heart.csv')\n",
        "dataset.head(3)"
      ],
      "execution_count": 48,
      "outputs": [
        {
          "output_type": "execute_result",
          "data": {
            "text/html": [
              "<div>\n",
              "<style scoped>\n",
              "    .dataframe tbody tr th:only-of-type {\n",
              "        vertical-align: middle;\n",
              "    }\n",
              "\n",
              "    .dataframe tbody tr th {\n",
              "        vertical-align: top;\n",
              "    }\n",
              "\n",
              "    .dataframe thead th {\n",
              "        text-align: right;\n",
              "    }\n",
              "</style>\n",
              "<table border=\"1\" class=\"dataframe\">\n",
              "  <thead>\n",
              "    <tr style=\"text-align: right;\">\n",
              "      <th></th>\n",
              "      <th>age</th>\n",
              "      <th>sex</th>\n",
              "      <th>cp</th>\n",
              "      <th>trestbps</th>\n",
              "      <th>chol</th>\n",
              "      <th>fbs</th>\n",
              "      <th>restecg</th>\n",
              "      <th>thalach</th>\n",
              "      <th>exang</th>\n",
              "      <th>oldpeak</th>\n",
              "      <th>slope</th>\n",
              "      <th>ca</th>\n",
              "      <th>thal</th>\n",
              "      <th>target</th>\n",
              "    </tr>\n",
              "  </thead>\n",
              "  <tbody>\n",
              "    <tr>\n",
              "      <th>0</th>\n",
              "      <td>63</td>\n",
              "      <td>1</td>\n",
              "      <td>3</td>\n",
              "      <td>145</td>\n",
              "      <td>233</td>\n",
              "      <td>1</td>\n",
              "      <td>0</td>\n",
              "      <td>150</td>\n",
              "      <td>0</td>\n",
              "      <td>2.3</td>\n",
              "      <td>0</td>\n",
              "      <td>0</td>\n",
              "      <td>1</td>\n",
              "      <td>1</td>\n",
              "    </tr>\n",
              "    <tr>\n",
              "      <th>1</th>\n",
              "      <td>37</td>\n",
              "      <td>1</td>\n",
              "      <td>2</td>\n",
              "      <td>130</td>\n",
              "      <td>250</td>\n",
              "      <td>0</td>\n",
              "      <td>1</td>\n",
              "      <td>187</td>\n",
              "      <td>0</td>\n",
              "      <td>3.5</td>\n",
              "      <td>0</td>\n",
              "      <td>0</td>\n",
              "      <td>2</td>\n",
              "      <td>1</td>\n",
              "    </tr>\n",
              "    <tr>\n",
              "      <th>2</th>\n",
              "      <td>41</td>\n",
              "      <td>0</td>\n",
              "      <td>1</td>\n",
              "      <td>130</td>\n",
              "      <td>204</td>\n",
              "      <td>0</td>\n",
              "      <td>0</td>\n",
              "      <td>172</td>\n",
              "      <td>0</td>\n",
              "      <td>1.4</td>\n",
              "      <td>2</td>\n",
              "      <td>0</td>\n",
              "      <td>2</td>\n",
              "      <td>1</td>\n",
              "    </tr>\n",
              "  </tbody>\n",
              "</table>\n",
              "</div>"
            ],
            "text/plain": [
              "   age  sex  cp  trestbps  chol  fbs  ...  exang  oldpeak  slope  ca  thal  target\n",
              "0   63    1   3       145   233    1  ...      0      2.3      0   0     1       1\n",
              "1   37    1   2       130   250    0  ...      0      3.5      0   0     2       1\n",
              "2   41    0   1       130   204    0  ...      0      1.4      2   0     2       1\n",
              "\n",
              "[3 rows x 14 columns]"
            ]
          },
          "metadata": {
            "tags": []
          },
          "execution_count": 48
        }
      ]
    },
    {
      "cell_type": "markdown",
      "metadata": {
        "id": "iARPNBt52qAF"
      },
      "source": [
        "Os dados da base de dados devem ser pré-processados. Para tanto, vamos começar separando os dados em uma matriz de features (dados de entrada) e um vetor coluna com as classes (última coluna – “target” – do arquivo csv)."
      ]
    },
    {
      "cell_type": "code",
      "metadata": {
        "id": "kiolejW022Xj",
        "outputId": "704dc24e-7a1d-4ced-f9ef-94212235c56a",
        "colab": {
          "base_uri": "https://localhost:8080/"
        }
      },
      "source": [
        "import numpy as np\n",
        "\n",
        "# transforma o dataset do pandas em np array\n",
        "featureMatrix = dataset.to_numpy()\n",
        "\n",
        "# extrai a ultima coluna da matrix\n",
        "labels = featureMatrix[:,len(featureMatrix[0]) - 1]\n",
        "\n",
        "# remove a ultima coluna da featureMatrix\n",
        "featureMatrix = np.delete(featureMatrix, len(featureMatrix[0]) - 1, 1)\n",
        "\n",
        "np.shape(featureMatrix), np.shape(labels)"
      ],
      "execution_count": 49,
      "outputs": [
        {
          "output_type": "execute_result",
          "data": {
            "text/plain": [
              "((303, 13), (303,))"
            ]
          },
          "metadata": {
            "tags": []
          },
          "execution_count": 49
        }
      ]
    },
    {
      "cell_type": "markdown",
      "metadata": {
        "id": "z9vJkNaK3nHc"
      },
      "source": [
        "Agora vamos treinar um modelo da classe LinearRegression do scikit-learn com toda a base."
      ]
    },
    {
      "cell_type": "code",
      "metadata": {
        "id": "aiz05oudvTkP",
        "outputId": "0368306c-5944-443a-b7d5-3d294c080f6e",
        "colab": {
          "base_uri": "https://localhost:8080/"
        }
      },
      "source": [
        "from sklearn.linear_model import LogisticRegression\n",
        "\n",
        "# eu precisei colocar o max_iter=1000 porque estava dando esse erro sem ele:\n",
        "#  ConvergenceWarning: lbfgs failed to converge (status=1): STOP: TOTAL NO. of ITERATIONS REACHED LIMIT.\n",
        "model = LogisticRegression(max_iter=1000)\n",
        "model.fit(featureMatrix, labels)"
      ],
      "execution_count": 50,
      "outputs": [
        {
          "output_type": "execute_result",
          "data": {
            "text/plain": [
              "LogisticRegression(C=1.0, class_weight=None, dual=False, fit_intercept=True,\n",
              "                   intercept_scaling=1, l1_ratio=None, max_iter=1000,\n",
              "                   multi_class='auto', n_jobs=None, penalty='l2',\n",
              "                   random_state=None, solver='lbfgs', tol=0.0001, verbose=0,\n",
              "                   warm_start=False)"
            ]
          },
          "metadata": {
            "tags": []
          },
          "execution_count": 50
        }
      ]
    },
    {
      "cell_type": "markdown",
      "metadata": {
        "id": "byCTvhss4gQh"
      },
      "source": [
        "Com isso conseguimos calcular o MSE (erro quadrático médio) para o modelo treinado;"
      ]
    },
    {
      "cell_type": "code",
      "metadata": {
        "id": "1UXB4REH4ur0",
        "outputId": "1d0c3d74-73b3-4f97-873d-6413671bc1f4",
        "colab": {
          "base_uri": "https://localhost:8080/"
        }
      },
      "source": [
        "from sklearn.metrics import mean_squared_error\n",
        "\n",
        "prediction = model.predict(featureMatrix)\n",
        "mse = mean_squared_error(labels, prediction)\n",
        "print(f\"MSE: {mse}\")\n",
        "print(f\"Intercept: {model.intercept_}\")"
      ],
      "execution_count": 51,
      "outputs": [
        {
          "output_type": "stream",
          "text": [
            "MSE: 0.15181518151815182\n",
            "Intercept: [2.74570516]\n"
          ],
          "name": "stdout"
        }
      ]
    },
    {
      "cell_type": "markdown",
      "metadata": {
        "id": "mHMfAOPB7YXm"
      },
      "source": [
        "Por fim, vamos plotar três gráficos (2D) do MSE em função do atributo intercept_ da classe LogisticRegression. Para tanto, vamos manter os valores do atributo coef_ fixos e variar o valor de intercept_ entre intercept_ - delta e intercept_ + delta. No caso vamos definir três deltas destintos. Cada delta vai gerar uma variação, e cada variação vai gerar um gráfico."
      ]
    },
    {
      "cell_type": "code",
      "metadata": {
        "id": "wxUyjYzp7YuE",
        "outputId": "365642d8-57cc-46fb-d6d8-2f79e591b9fd",
        "colab": {
          "base_uri": "https://localhost:8080/",
          "height": 761
        }
      },
      "source": [
        "import matplotlib.pyplot as plt\n",
        "import copy\n",
        "\n",
        "deltaPercentages =  [0.2, 0.1, 0.05]\n",
        "ws = []\n",
        "for percentage in deltaPercentages:\n",
        "  delta = model.intercept_ * percentage\n",
        "  w = np.linspace(model.intercept_ - delta, model.intercept_ + delta, 100)\n",
        "  ws.append(w)\n",
        "\n",
        "def generateErrors(model, intercepts):\n",
        "  errors = []\n",
        "  for intercept in intercepts:\n",
        "    model.intercept_ = intercept\n",
        "    innerPrediction = model.predict(featureMatrix)\n",
        "    innerMse = mean_squared_error(pricesVector, innerPrediction)\n",
        "    errors.append(innerMse)\n",
        "  return errors\n",
        "\n",
        "plt.ylabel = \"Error\"\n",
        "plt.xLabel = \"W\"\n",
        "\n",
        "for w in ws:\n",
        "  modelCopy = copy.deepcopy(model)\n",
        "  errors = generateErrors(modelCopy, w)\n",
        "  plt.plot(w, errors)\n",
        "  plt.show()"
      ],
      "execution_count": 74,
      "outputs": [
        {
          "output_type": "display_data",
          "data": {
            "image/png": "[encoded data removed]",
            "text/plain": [
              "<Figure size 432x288 with 1 Axes>"
            ]
          },
          "metadata": {
            "tags": [],
            "needs_background": "light"
          }
        },
        {
          "output_type": "display_data",
          "data": {
            "image/png": "[encoded data removed]",
            "text/plain": [
              "<Figure size 432x288 with 1 Axes>"
            ]
          },
          "metadata": {
            "tags": [],
            "needs_background": "light"
          }
        },
        {
          "output_type": "display_data",
          "data": {
            "image/png": "[encoded data removed]",
            "text/plain": [
              "<Figure size 432x288 with 1 Axes>"
            ]
          },
          "metadata": {
            "tags": [],
            "needs_background": "light"
          }
        }
      ]
    }
  ]
}