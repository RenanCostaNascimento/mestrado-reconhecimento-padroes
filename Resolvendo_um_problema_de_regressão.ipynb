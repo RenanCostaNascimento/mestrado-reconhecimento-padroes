{
  "nbformat": 4,
  "nbformat_minor": 0,
  "metadata": {
    "colab": {
      "name": "Resolvendo um problema de regressão.ipynb",
      "provenance": [],
      "authorship_tag": "ABX9TyPa5PMoRmpNEMUMUVtXwdmD",
      "include_colab_link": true
    },
    "kernelspec": {
      "name": "python3",
      "display_name": "Python 3"
    }
  },
  "cells": [
    {
      "cell_type": "markdown",
      "metadata": {
        "id": "view-in-github",
        "colab_type": "text"
      },
      "source": [
        "<a href=\"https://colab.research.google.com/github/RenanCostaNascimento/mestrado-reconhecimento-padroes/blob/main/Resolvendo_um_problema_de_regress%C3%A3o.ipynb\" target=\"_parent\"><img src=\"https://colab.research.google.com/assets/colab-badge.svg\" alt=\"Open In Colab\"/></a>"
      ]
    },
    {
      "cell_type": "markdown",
      "metadata": {
        "id": "6mqw1_y01BNZ"
      },
      "source": [
        "Vamos começar importando os dados de amostra do Colab. É um dataset com preços de casas na Califórnia.\n"
      ]
    },
    {
      "cell_type": "code",
      "metadata": {
        "id": "ZA9LrvqOyoUG",
        "outputId": "7595c8ea-c29a-4f18-b9ef-1845e5de23c5",
        "colab": {
          "base_uri": "https://localhost:8080/",
          "height": 142
        }
      },
      "source": [
        "import pandas as pd\n",
        "\n",
        "dataset = pd.read_csv('/content/sample_data/california_housing_train.csv')\n",
        "dataset.head(3)"
      ],
      "execution_count": 47,
      "outputs": [
        {
          "output_type": "execute_result",
          "data": {
            "text/html": [
              "<div>\n",
              "<style scoped>\n",
              "    .dataframe tbody tr th:only-of-type {\n",
              "        vertical-align: middle;\n",
              "    }\n",
              "\n",
              "    .dataframe tbody tr th {\n",
              "        vertical-align: top;\n",
              "    }\n",
              "\n",
              "    .dataframe thead th {\n",
              "        text-align: right;\n",
              "    }\n",
              "</style>\n",
              "<table border=\"1\" class=\"dataframe\">\n",
              "  <thead>\n",
              "    <tr style=\"text-align: right;\">\n",
              "      <th></th>\n",
              "      <th>longitude</th>\n",
              "      <th>latitude</th>\n",
              "      <th>housing_median_age</th>\n",
              "      <th>total_rooms</th>\n",
              "      <th>total_bedrooms</th>\n",
              "      <th>population</th>\n",
              "      <th>households</th>\n",
              "      <th>median_income</th>\n",
              "      <th>median_house_value</th>\n",
              "    </tr>\n",
              "  </thead>\n",
              "  <tbody>\n",
              "    <tr>\n",
              "      <th>0</th>\n",
              "      <td>-114.31</td>\n",
              "      <td>34.19</td>\n",
              "      <td>15.0</td>\n",
              "      <td>5612.0</td>\n",
              "      <td>1283.0</td>\n",
              "      <td>1015.0</td>\n",
              "      <td>472.0</td>\n",
              "      <td>1.4936</td>\n",
              "      <td>66900.0</td>\n",
              "    </tr>\n",
              "    <tr>\n",
              "      <th>1</th>\n",
              "      <td>-114.47</td>\n",
              "      <td>34.40</td>\n",
              "      <td>19.0</td>\n",
              "      <td>7650.0</td>\n",
              "      <td>1901.0</td>\n",
              "      <td>1129.0</td>\n",
              "      <td>463.0</td>\n",
              "      <td>1.8200</td>\n",
              "      <td>80100.0</td>\n",
              "    </tr>\n",
              "    <tr>\n",
              "      <th>2</th>\n",
              "      <td>-114.56</td>\n",
              "      <td>33.69</td>\n",
              "      <td>17.0</td>\n",
              "      <td>720.0</td>\n",
              "      <td>174.0</td>\n",
              "      <td>333.0</td>\n",
              "      <td>117.0</td>\n",
              "      <td>1.6509</td>\n",
              "      <td>85700.0</td>\n",
              "    </tr>\n",
              "  </tbody>\n",
              "</table>\n",
              "</div>"
            ],
            "text/plain": [
              "   longitude  latitude  ...  median_income  median_house_value\n",
              "0    -114.31     34.19  ...         1.4936             66900.0\n",
              "1    -114.47     34.40  ...         1.8200             80100.0\n",
              "2    -114.56     33.69  ...         1.6509             85700.0\n",
              "\n",
              "[3 rows x 9 columns]"
            ]
          },
          "metadata": {
            "tags": []
          },
          "execution_count": 47
        }
      ]
    },
    {
      "cell_type": "markdown",
      "metadata": {
        "id": "iARPNBt52qAF"
      },
      "source": [
        "Os dados da base de dados devem ser pré-processados. Para tanto, vamos começar separando os dados em uma matriz de features (dados de entrada) e um vetor coluna com as classes (última coluna – “media_house_values” – do arquivo csv)."
      ]
    },
    {
      "cell_type": "code",
      "metadata": {
        "id": "kiolejW022Xj"
      },
      "source": [
        "import numpy as np\n",
        "\n",
        "# transforma o dataset do pandas em np array\n",
        "featureMatrix = dataset.to_numpy()\n",
        "\n",
        "# extrai a ultima coluna da matrix\n",
        "pricesVector = featureMatrix[:,len(featureMatrix[0]) - 1]\n",
        "\n",
        "# remove a ultima coluna da featureMatrix\n",
        "featureMatrix = np.delete(featureMatrix, len(featureMatrix[0]) - 1, 1)"
      ],
      "execution_count": 48,
      "outputs": []
    },
    {
      "cell_type": "markdown",
      "metadata": {
        "id": "z9vJkNaK3nHc"
      },
      "source": [
        "Agora vamos treinar um modelo da classe LinearRegression do scikit-learn com toda a base."
      ]
    },
    {
      "cell_type": "code",
      "metadata": {
        "id": "aiz05oudvTkP",
        "outputId": "d9fbffe6-f4b1-40f9-f7d3-eae9cf29baa4",
        "colab": {
          "base_uri": "https://localhost:8080/"
        }
      },
      "source": [
        "from sklearn.linear_model import LinearRegression\n",
        "\n",
        "model = LinearRegression()\n",
        "model.fit(featureMatrix, pricesVector)"
      ],
      "execution_count": 49,
      "outputs": [
        {
          "output_type": "execute_result",
          "data": {
            "text/plain": [
              "LinearRegression(copy_X=True, fit_intercept=True, n_jobs=None, normalize=False)"
            ]
          },
          "metadata": {
            "tags": []
          },
          "execution_count": 49
        }
      ]
    },
    {
      "cell_type": "markdown",
      "metadata": {
        "id": "byCTvhss4gQh"
      },
      "source": [
        "Com isso conseguimos calcular o MSE (erro quadrático médio) para o modelo treinado;"
      ]
    },
    {
      "cell_type": "code",
      "metadata": {
        "id": "1UXB4REH4ur0",
        "outputId": "3aa5bdd8-ab08-4ce4-81ea-86cb9d2763a3",
        "colab": {
          "base_uri": "https://localhost:8080/"
        }
      },
      "source": [
        "from sklearn.metrics import mean_squared_error\n",
        "\n",
        "prediction = model.predict(featureMatrix)\n",
        "mse = mean_squared_error(pricesVector, prediction)\n",
        "print(\"MSE: \", mse)\n",
        "print(\"Intercept:\", model.intercept_)"
      ],
      "execution_count": 50,
      "outputs": [
        {
          "output_type": "stream",
          "text": [
            "MSE:  4824523173.926901\n",
            "Intercept: -3620600.8929739078\n"
          ],
          "name": "stdout"
        }
      ]
    },
    {
      "cell_type": "markdown",
      "metadata": {
        "id": "mHMfAOPB7YXm"
      },
      "source": [
        "Por fim, vamos plotar em um gráfico (2D) do MSE em função do atributo intercept_ da classe LinearRegression. Para tanto, vamos manter os valores do atributo coef_ fixos e variar o valor de intercept_ entre intercept_ - delta e intercept_ + delta."
      ]
    },
    {
      "cell_type": "code",
      "metadata": {
        "id": "wxUyjYzp7YuE",
        "outputId": "7ef8c1b7-a8b9-4802-93cb-fd62d091d045",
        "colab": {
          "base_uri": "https://localhost:8080/",
          "height": 289
        }
      },
      "source": [
        "import matplotlib.pyplot as plt\n",
        "\n",
        "delta = model.intercept_ * 0.1\n",
        "w0 = np.linspace(model.intercept_ - delta, model.intercept_ + delta, 100)\n",
        "\n",
        "def generateErrors(model, intercepts):\n",
        "  errors = []\n",
        "  for intercept in intercepts:\n",
        "    model.intercept_ = intercept\n",
        "    innerPrediction = model.predict(featureMatrix)\n",
        "    innerMse = mean_squared_error(pricesVector, innerPrediction)\n",
        "    errors.append(innerMse)\n",
        "  return errors\n",
        "\n",
        "errors = generateErrors(model, w0)\n",
        "\n",
        "plt.ylabel = \"Error\"\n",
        "plt.xLabel = \"W0\"\n",
        "plt.plot(w0, errors)\n",
        "plt.show()"
      ],
      "execution_count": 51,
      "outputs": [
        {
          "output_type": "display_data",
          "data": {
            "image/png": "[encoded data removed]",
            "text/plain": [
              "<Figure size 432x288 with 1 Axes>"
            ]
          },
          "metadata": {
            "tags": [],
            "needs_background": "light"
          }
        }
      ]
    }
  ]
}