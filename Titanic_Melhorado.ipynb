{
  "nbformat": 4,
  "nbformat_minor": 0,
  "metadata": {
    "colab": {
      "name": "Titanic Melhorado.ipynb",
      "provenance": [],
      "authorship_tag": "ABX9TyNTbGO3+TNjn1fAPwZ7FK+P",
      "include_colab_link": true
    },
    "kernelspec": {
      "name": "python3",
      "display_name": "Python 3"
    }
  },
  "cells": [
    {
      "cell_type": "markdown",
      "metadata": {
        "id": "view-in-github",
        "colab_type": "text"
      },
      "source": [
        "<a href=\"https://colab.research.google.com/github/RenanCostaNascimento/mestrado-reconhecimento-padroes/blob/main/Titanic_Melhorado.ipynb\" target=\"_parent\"><img src=\"https://colab.research.google.com/assets/colab-badge.svg\" alt=\"Open In Colab\"/></a>"
      ]
    },
    {
      "cell_type": "markdown",
      "metadata": {
        "id": "mFoj7HfF1Y0n"
      },
      "source": [
        "O objetivo desse notebook é melhorar o [resultado obtido anteriormente](https://colab.research.google.com/drive/1MGozqv8xQcfvaqDxbev43TKwdBZueQe9) usando como base o [código do professor](https://github.com/fboldt/aulasml/blob/titanic/titanic.ipynb). Abaixo então se segue o código do professor. Minhas alterações serão marcadas através de comentários."
      ]
    },
    {
      "cell_type": "code",
      "metadata": {
        "id": "PsxS2T2e1Vmy"
      },
      "source": [
        "import pandas as pd\r\n",
        "import numpy as np\r\n",
        "\r\n",
        "train = pd.read_csv('train.csv').set_index('PassengerId')\r\n",
        "test = pd.read_csv('test.csv').set_index('PassengerId')"
      ],
      "execution_count": 39,
      "outputs": []
    },
    {
      "cell_type": "code",
      "metadata": {
        "id": "QrplaY9DUlA-"
      },
      "source": [
        "# Ao invés de usar as características existentes, vamos criar algumas novas.\r\n",
        "df = pd.concat([train, test], axis=0, sort=False)\r\n",
        "df['Title'] = df.Name.str.split(',').str[1].str.split('.').str[0].str.strip()\r\n",
        "df['IsWomanOrChild'] = ((df.Title == 'Master') | (df.Sex == 'female'))\r\n",
        "df['LastName'] = df.Name.str.split(',').str[0]\r\n",
        "family = df.groupby(df.LastName).Survived\r\n",
        "df['FamilyTotalCount'] = family.transform(lambda s: s[df.IsWomanOrChild].fillna(0).count())\r\n",
        "df['FamilyTotalCount'] = df.mask(df.IsWomanOrChild, df.FamilyTotalCount - 1, axis=0)\r\n",
        "df['FamilySurvivedCount'] = family.transform(lambda s: s[df.IsWomanOrChild].fillna(0).sum())\r\n",
        "df['FamilySurvivedCount'] = df.mask(df.IsWomanOrChild, df.FamilySurvivedCount - df.Survived.fillna(0), axis=0)\r\n",
        "df['FamilySurvivalRate'] = (df.FamilySurvivedCount / df.FamilyTotalCount.replace(0, np.nan))\r\n",
        "df['IsSingleTraveler'] = df.FamilyTotalCount == 0\r\n",
        "\r\n",
        "\r\n",
        "x = pd.concat([\r\n",
        "    df.FamilySurvivalRate.fillna(0),\r\n",
        "    df.IsSingleTraveler,\r\n",
        "    df.Sex.replace({'male': 0, 'female': 1}),\r\n",
        "], axis=1)\r\n",
        "\r\n",
        "# ao invés de usar X, y e test\r\n",
        "# vamos usar train_x, test_x e train_y\r\n",
        "train_x, test_x = x.loc[train.index], x.loc[test.index]\r\n",
        "train_y = df.Survived.loc[train.index]"
      ],
      "execution_count": 40,
      "outputs": []
    },
    {
      "cell_type": "code",
      "metadata": {
        "colab": {
          "base_uri": "https://localhost:8080/"
        },
        "id": "G4474xaa1_rD",
        "outputId": "55c2b359-e641-4011-c430-985f8f563330"
      },
      "source": [
        "from sklearn.ensemble import RandomForestClassifier\r\n",
        "from sklearn.model_selection import GridSearchCV, cross_validate, RepeatedKFold\r\n",
        "import numpy as np\r\n",
        "\r\n",
        "pipe = Pipeline([\r\n",
        "    ('classificador', RandomForestClassifier())\r\n",
        "])\r\n",
        "\r\n",
        "parametros = {\r\n",
        "    # adicionei mais alguns parâmetros de depth\r\n",
        "    'classificador__max_depth': [2,3,4,5],\r\n",
        "    # adicionei dois criterions\r\n",
        "    'classificador__criterion': ['gini', 'entropy']\r\n",
        "}\r\n",
        "modelo = GridSearchCV(pipe, param_grid=parametros)\r\n",
        "\r\n",
        "scores = cross_validate(modelo, train_x, train_y , cv=RepeatedKFold())\r\n",
        "scores['test_score'], np.mean(scores['test_score']), np.std(scores['test_score'])"
      ],
      "execution_count": 41,
      "outputs": [
        {
          "output_type": "execute_result",
          "data": {
            "text/plain": [
              "(array([0.94413408, 0.91573034, 0.92696629, 0.90449438, 0.91573034,\n",
              "        0.89385475, 0.92134831, 0.92696629, 0.92696629, 0.93820225,\n",
              "        0.92178771, 0.92134831, 0.91573034, 0.92696629, 0.92134831,\n",
              "        0.9273743 , 0.91011236, 0.91011236, 0.91011236, 0.91011236,\n",
              "        0.93854749, 0.91011236, 0.93820225, 0.88764045, 0.93258427,\n",
              "        0.9273743 , 0.91011236, 0.91573034, 0.91573034, 0.93820225,\n",
              "        0.93296089, 0.92134831, 0.93258427, 0.92134831, 0.8988764 ,\n",
              "        0.93854749, 0.92134831, 0.91011236, 0.89325843, 0.88202247,\n",
              "        0.93854749, 0.90449438, 0.92696629, 0.90449438, 0.92696629,\n",
              "        0.92178771, 0.92696629, 0.91011236, 0.92696629, 0.92134831]),\n",
              " 0.9192938296403238,\n",
              " 0.01379362816512509)"
            ]
          },
          "metadata": {
            "tags": []
          },
          "execution_count": 41
        }
      ]
    },
    {
      "cell_type": "code",
      "metadata": {
        "id": "1fTCobXa2Qmg"
      },
      "source": [
        "modelo.fit(train_x, train_y)\r\n",
        "y_pred = modelo.predict(test_x)\r\n",
        "pd.DataFrame({'Survived': y_pred.astype(int)}, index=test.index) \\\r\n",
        ".reset_index() \\\r\n",
        ".to_csv(f'survived.csv', index=False)"
      ],
      "execution_count": 49,
      "outputs": []
    }
  ]
}